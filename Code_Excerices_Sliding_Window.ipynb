{
  "nbformat": 4,
  "nbformat_minor": 0,
  "metadata": {
    "colab": {
      "provenance": [],
      "authorship_tag": "ABX9TyOwiiEq32TM5gpokbCGBc7L",
      "include_colab_link": true
    },
    "kernelspec": {
      "name": "python3",
      "display_name": "Python 3"
    },
    "language_info": {
      "name": "python"
    }
  },
  "cells": [
    {
      "cell_type": "markdown",
      "metadata": {
        "id": "view-in-github",
        "colab_type": "text"
      },
      "source": [
        "<a href=\"https://colab.research.google.com/github/OmerRosen/DifferentProjects/blob/main/Code_Excerices_Sliding_Window.ipynb\" target=\"_parent\"><img src=\"https://colab.research.google.com/assets/colab-badge.svg\" alt=\"Open In Colab\"/></a>"
      ]
    },
    {
      "cell_type": "markdown",
      "source": [
        "209. Minimum Size Subarray Sum\n",
        "\n",
        "Given an array of positive integers nums and a positive integer target, return the minimal length of a\n",
        "subarray\n",
        " whose sum is greater than or equal to target. If there is no such subarray, return 0 instead.\n",
        "\n",
        "\n",
        "\n",
        "Example 1:\n",
        "\n",
        "Input: target = 7, nums = [2,3,1,2,4,3]\n",
        "Output: 2\n",
        "Explanation: The subarray [4,3] has the minimal length under the problem constraint.\n",
        "Example 2:\n",
        "\n",
        "Input: target = 4, nums = [1,4,4]\n",
        "Output: 1\n",
        "Example 3:\n",
        "\n",
        "Input: target = 11, nums = [1,1,1,1,1,1,1,1]\n",
        "Output: 0\n",
        "\n",
        "\n",
        "Constraints:\n",
        "\n",
        "1 <= target <= 109\n",
        "1 <= nums.length <= 105\n",
        "1 <= nums[i] <= 104\n",
        "\n",
        "\n",
        "Follow up: If you have figured out the O(n) solution, try coding another solution of which the time complexity is O(n log(n))."
      ],
      "metadata": {
        "id": "-vn4ekrpKzfz"
      }
    },
    {
      "cell_type": "code",
      "execution_count": null,
      "metadata": {
        "id": "6IINNe1fn0EH"
      },
      "outputs": [],
      "source": [
        "public class Solution {\n",
        "    public int MinSubArrayLen(int target, int[] nums) {\n",
        "        int minimumLength = nums.Length+1;\n",
        "\n",
        "        if(target == 0){\n",
        "            return 1;\n",
        "        }\n",
        "\n",
        "        int currentLength = 1;\n",
        "        int currentSum = 0;\n",
        "        for(int end=0; end<nums.Length; end++){\n",
        "            currentSum += nums[end];\n",
        "            if(currentSum>=target){\n",
        "                Console.WriteLine($\"end: {end}. valEnd: {nums[end]}. currentLength: {currentLength}. currentSum: {currentSum}\");\n",
        "                minimumLength = Math.Min(currentLength,minimumLength);\n",
        "                while(currentLength>1){\n",
        "                    int indexToRemove = end-currentLength+1;\n",
        "                    currentSum -= nums[indexToRemove];\n",
        "                    currentLength--;\n",
        "                    Console.WriteLine($\"trimming start: currentLength: {currentLength}. valEnd: {nums[end]}. indexToRemove: {indexToRemove}. currentLength: {currentLength}. currentSum: {currentSum}\");\n",
        "                    if(currentSum>=target){\n",
        "                        minimumLength = Math.Min(currentLength,minimumLength);\n",
        "                        Console.WriteLine($\"New Low: {minimumLength}\");\n",
        "                    }\n",
        "                    else{\n",
        "                        break;\n",
        "                    }\n",
        "                }\n",
        "            }\n",
        "            currentLength++;\n",
        "        }\n",
        "        return minimumLength==nums.Length+1 ? 0 : minimumLength;\n",
        "    }\n",
        "}"
      ]
    },
    {
      "cell_type": "markdown",
      "source": [
        "3. Longest Substring Without Repeating Characters\n",
        "\n",
        "Given a string s, find the length of the longest\n",
        "substring\n",
        " without repeating characters.\n",
        "\n",
        "\n",
        "\n",
        "Example 1:\n",
        "\n",
        "Input: s = \"abcabcbb\"\n",
        "Output: 3\n",
        "Explanation: The answer is \"abc\", with the length of 3.\n",
        "Example 2:\n",
        "\n",
        "Input: s = \"bbbbb\"\n",
        "Output: 1\n",
        "Explanation: The answer is \"b\", with the length of 1.\n",
        "Example 3:\n",
        "\n",
        "Input: s = \"pwwkew\"\n",
        "Output: 3\n",
        "Explanation: The answer is \"wke\", with the length of 3.\n",
        "Notice that the answer must be a substring, \"pwke\" is a subsequence and not a substring.\n",
        "\n",
        "\n",
        "Constraints:\n",
        "\n",
        "0 <= s.length <= 5 * 104\n",
        "s consists of English letters, digits, symbols and spaces."
      ],
      "metadata": {
        "id": "JYeWX2HErwo5"
      }
    },
    {
      "cell_type": "code",
      "source": [
        "public class Solution {\n",
        "    public int LengthOfLongestSubstring(string s) {\n",
        "        HashSet<char> uniqueChars = new HashSet<char>();\n",
        "        int longest = 0;\n",
        "\n",
        "        int length = 1;\n",
        "        int startIndex = 0;\n",
        "        for(int end = 0; end<s.Length; end++){\n",
        "            char currentChar = s[end];\n",
        "\n",
        "            //Console.WriteLine($\"end: {end}. startIndex: {startIndex}. currentChar: {currentChar}. length: {length}. string: {s.Substring(startIndex,length)}\");\n",
        "\n",
        "            if(uniqueChars.Contains(currentChar) && currentChar==s[startIndex]){\n",
        "                //Console.WriteLine($\"Last char same as first char\");\n",
        "                startIndex++;\n",
        "            }\n",
        "            else if(uniqueChars.Contains(currentChar)){\n",
        "                //Console.WriteLine($\"Last char exists in middle. startIndex: {startIndex}. length: {length}\");\n",
        "                string substring = s.Substring(startIndex,length);\n",
        "                int index = substring.IndexOf(currentChar);\n",
        "\n",
        "                length=end-index;\n",
        "                //startIndex=end-length+1;\n",
        "                end=startIndex+index;\n",
        "                startIndex=Math.Max(1,end);\n",
        "                length=1;\n",
        "                uniqueChars.Clear();\n",
        "\n",
        "                if(end>0){\n",
        "                    end--;\n",
        "                }\n",
        "\n",
        "                //char[] updatedSucString = substring.Skip(index+1).Take(length).ToArray();\n",
        "                //uniqueChars = new HashSet<char>(updatedSucString);\n",
        "                //Console.WriteLine($\"Last char exists: char: {currentChar}. substring: {substring}. index: {index}. new startIndex: {startIndex}. new length: {length}. new end: {end}. original string: {s}\");\n",
        "\n",
        "                //length++;\n",
        "            }\n",
        "            else{\n",
        "                //Console.WriteLine($\"char doesn't exists. Continue\");\n",
        "                longest = Math.Max(longest,length);\n",
        "                uniqueChars.Add(currentChar);\n",
        "                length++;\n",
        "            }\n",
        "        }\n",
        "        return longest;\n",
        "    }\n",
        "}"
      ],
      "metadata": {
        "id": "Q6dgajdfr0-4"
      },
      "execution_count": null,
      "outputs": []
    }
  ]
}