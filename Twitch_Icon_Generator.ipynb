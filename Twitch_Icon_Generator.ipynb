{
  "nbformat": 4,
  "nbformat_minor": 0,
  "metadata": {
    "colab": {
      "provenance": [],
      "mount_file_id": "1LJxdwUrwfzrXr5FaItXOTFjWpRyTiQ2c",
      "authorship_tag": "ABX9TyO5V77DCxpZ0bkz9mbALxJc",
      "include_colab_link": true
    },
    "kernelspec": {
      "name": "python3",
      "display_name": "Python 3"
    },
    "language_info": {
      "name": "python"
    }
  },
  "cells": [
    {
      "cell_type": "markdown",
      "metadata": {
        "id": "view-in-github",
        "colab_type": "text"
      },
      "source": [
        "<a href=\"https://colab.research.google.com/github/OmerRosen/DifferentProjects/blob/main/Twitch_Icon_Generator.ipynb\" target=\"_parent\"><img src=\"https://colab.research.google.com/assets/colab-badge.svg\" alt=\"Open In Colab\"/></a>"
      ]
    },
    {
      "cell_type": "code",
      "execution_count": 10,
      "metadata": {
        "id": "9Yl7KgdEWtG8"
      },
      "outputs": [],
      "source": [
        "from PIL import Image\n",
        "import os\n",
        "import glob\n"
      ]
    },
    {
      "cell_type": "code",
      "source": [
        "def resize_image(input_image_path, size):\n",
        "\n",
        "  if not os.path.exists(input_image_path):\n",
        "    print(f\"File path does not exists: {input_image_path}\")\n",
        "\n",
        "  original_image = Image.open(input_image_path)\n",
        "  width, height = original_image.size\n",
        "\n",
        "  file_name_without_extension = os.path.splitext(os.path.basename(input_image_path))[0]\n",
        "\n",
        "  print(file_name_without_extension, size)\n",
        "\n",
        "  # maintain aspect ratio\n",
        "  aspect_ratio = width / height\n",
        "  new_width = size\n",
        "  new_height = int(new_width / aspect_ratio)\n",
        "\n",
        "  resized_image = original_image.resize((new_width, new_height))\n",
        "  resized_image.save(input_image_path.replace(file_name_without_extension, f\"{file_name_without_extension}_size{size}\") )\n",
        "\n",
        "# use the function\n",
        "resize_image('/content/Haters gonna have small.png', 112)\n"
      ],
      "metadata": {
        "colab": {
          "base_uri": "https://localhost:8080/"
        },
        "id": "vCK8EH7nWyVX",
        "outputId": "df5221e9-6b14-45c2-83d9-32119099f056"
      },
      "execution_count": 11,
      "outputs": [
        {
          "output_type": "stream",
          "name": "stdout",
          "text": [
            "Haters gonna have small 112\n"
          ]
        }
      ]
    },
    {
      "cell_type": "code",
      "source": [
        "list_of_sizes = [112,56,28]\n",
        "\n",
        "directory = '/content/drive/MyDrive/Twitch Recordings/Icons For Twitch'\n",
        "all_png_files = glob.glob(os.path.join(directory, '*.png'))\n",
        "filtered_png_files = [f for f in all_png_files if '_size' not in f]\n",
        "\n",
        "\n",
        "for png_image in filtered_png_files:\n",
        "  print(png_image)\n",
        "  for size in list_of_sizes:\n",
        "    resize_image(png_image, size)\n",
        "\n"
      ],
      "metadata": {
        "colab": {
          "base_uri": "https://localhost:8080/"
        },
        "id": "R1T23flJXSIh",
        "outputId": "d69c603f-eebb-4939-e244-c8af913e1684"
      },
      "execution_count": 13,
      "outputs": [
        {
          "output_type": "stream",
          "name": "stdout",
          "text": [
            "/content/drive/MyDrive/Twitch Recordings/Icons For Twitch/Omer Smiling.png\n",
            "Omer Smiling 112\n",
            "Omer Smiling 56\n",
            "Omer Smiling 28\n",
            "/content/drive/MyDrive/Twitch Recordings/Icons For Twitch/Omer - ISWUDT.png\n",
            "Omer - ISWUDT 112\n",
            "Omer - ISWUDT 56\n",
            "Omer - ISWUDT 28\n",
            "/content/drive/MyDrive/Twitch Recordings/Icons For Twitch/Omer - Though metirial.png\n",
            "Omer - Though metirial 112\n",
            "Omer - Though metirial 56\n",
            "Omer - Though metirial 28\n",
            "/content/drive/MyDrive/Twitch Recordings/Icons For Twitch/Omer - Pipi.png\n",
            "Omer - Pipi 112\n",
            "Omer - Pipi 56\n",
            "Omer - Pipi 28\n",
            "/content/drive/MyDrive/Twitch Recordings/Icons For Twitch/Omer - Who me.png\n",
            "Omer - Who me 112\n",
            "Omer - Who me 56\n",
            "Omer - Who me 28\n",
            "/content/drive/MyDrive/Twitch Recordings/Icons For Twitch/Omer - Old.png\n",
            "Omer - Old 112\n",
            "Omer - Old 56\n",
            "Omer - Old 28\n",
            "/content/drive/MyDrive/Twitch Recordings/Icons For Twitch/Omer - Like.png\n",
            "Omer - Like 112\n",
            "Omer - Like 56\n",
            "Omer - Like 28\n",
            "/content/drive/MyDrive/Twitch Recordings/Icons For Twitch/Omer - Shark.png\n",
            "Omer - Shark 112\n",
            "Omer - Shark 56\n",
            "Omer - Shark 28\n"
          ]
        }
      ]
    },
    {
      "cell_type": "code",
      "source": [],
      "metadata": {
        "id": "5al1GLwFZOFz"
      },
      "execution_count": null,
      "outputs": []
    }
  ]
}