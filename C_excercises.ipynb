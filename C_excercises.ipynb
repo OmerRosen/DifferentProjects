{
  "nbformat": 4,
  "nbformat_minor": 0,
  "metadata": {
    "colab": {
      "provenance": [],
      "authorship_tag": "ABX9TyORytRGDJPQGiXRa/grcFOp",
      "include_colab_link": true
    },
    "kernelspec": {
      "name": "python3",
      "display_name": "Python 3"
    },
    "language_info": {
      "name": "python"
    }
  },
  "cells": [
    {
      "cell_type": "markdown",
      "metadata": {
        "id": "view-in-github",
        "colab_type": "text"
      },
      "source": [
        "<a href=\"https://colab.research.google.com/github/OmerRosen/DifferentProjects/blob/main/C_excercises.ipynb\" target=\"_parent\"><img src=\"https://colab.research.google.com/assets/colab-badge.svg\" alt=\"Open In Colab\"/></a>"
      ]
    },
    {
      "cell_type": "markdown",
      "source": [
        "88. Merge Sorted Array"
      ],
      "metadata": {
        "id": "kaVDKnp16Eqm"
      }
    },
    {
      "cell_type": "markdown",
      "source": [
        "You are given two integer arrays nums1 and nums2, sorted in non-decreasing order, and two integers m and n, representing the number of elements in nums1 and nums2 respectively.\n",
        "\n",
        "Merge nums1 and nums2 into a single array sorted in non-decreasing order.\n",
        "\n",
        "The final sorted array should not be returned by the function, but instead be stored inside the array nums1. To accommodate this, nums1 has a length of m + n, where the first m elements denote the elements that should be merged, and the last n elements are set to 0 and should be ignored. nums2 has a length of n.\n",
        "\n",
        "\n",
        "\n",
        "Example 1:\n",
        "\n",
        "Input: nums1 = [1,2,3,0,0,0], m = 3, nums2 = [2,5,6], n = 3\n",
        "Output: [1,2,2,3,5,6]\n",
        "Explanation: The arrays we are merging are [1,2,3] and [2,5,6].\n",
        "The result of the merge is [1,2,2,3,5,6] with the underlined elements coming from nums1.\n",
        "Example 2:\n",
        "\n",
        "Input: nums1 = [1], m = 1, nums2 = [], n = 0\n",
        "Output: [1]\n",
        "Explanation: The arrays we are merging are [1] and [].\n",
        "The result of the merge is [1].\n",
        "Example 3:\n",
        "\n",
        "Input: nums1 = [0], m = 0, nums2 = [1], n = 1\n",
        "Output: [1]\n",
        "Explanation: The arrays we are merging are [] and [1].\n",
        "The result of the merge is [1].\n",
        "Note that because m = 0, there are no elements in nums1. The 0 is only there to ensure the merge result can fit in nums1.\n",
        "\n",
        "\n",
        "Constraints:\n",
        "\n",
        "nums1.length == m + n\n",
        "nums2.length == n\n",
        "0 <= m, n <= 200\n",
        "1 <= m + n <= 200\n",
        "-109 <= nums1[i], nums2[j] <= 109\n",
        "\n",
        "\n",
        "Follow up: Can you come up with an algorithm that runs in O(m + n) time?\n",
        "\n"
      ],
      "metadata": {
        "id": "epe3wHOi5-Pf"
      }
    },
    {
      "cell_type": "code",
      "execution_count": null,
      "metadata": {
        "id": "BdJ2c7Y651qs"
      },
      "outputs": [],
      "source": [
        "public class Solution {\n",
        "    public void Merge(int[] nums1, int m, int[] nums2, int n) {\n",
        "        for (int i = 0; i < n; i++){\n",
        "            int itemFromList = nums2[i];\n",
        "            Console.WriteLine($\"itemFromList: {itemFromList}. i: {i}\");\n",
        "            nums1[m+i] = itemFromList;\n",
        "            Console.WriteLine($\"nums1: {nums1}. i: {i}\");\n",
        "        }\n",
        "        if (nums1.Length > 1){\n",
        "            Array.Sort(nums1, (a, b) => a.CompareTo(b));\n",
        "        }\n",
        "\n",
        "    }\n",
        "}"
      ]
    }
  ]
}