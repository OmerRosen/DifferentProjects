{
  "nbformat": 4,
  "nbformat_minor": 0,
  "metadata": {
    "colab": {
      "provenance": [],
      "authorship_tag": "ABX9TyOuhH1s3uFJaMd8lTBLsP8q",
      "include_colab_link": true
    },
    "kernelspec": {
      "name": "python3",
      "display_name": "Python 3"
    },
    "language_info": {
      "name": "python"
    }
  },
  "cells": [
    {
      "cell_type": "markdown",
      "metadata": {
        "id": "view-in-github",
        "colab_type": "text"
      },
      "source": [
        "<a href=\"https://colab.research.google.com/github/OmerRosen/DifferentProjects/blob/main/Coding_Excercise_RestAPI.ipynb\" target=\"_parent\"><img src=\"https://colab.research.google.com/assets/colab-badge.svg\" alt=\"Open In Colab\"/></a>"
      ]
    },
    {
      "cell_type": "code",
      "execution_count": null,
      "metadata": {
        "id": "TMHkJIFDEEo6"
      },
      "outputs": [],
      "source": [
        "// Controllers/ProductsController.cs\n",
        "using Microsoft.AspNetCore.Mvc;\n",
        "using BasicRestApi.Models;\n",
        "using System.Collections.Generic;\n",
        "using System.Linq;\n",
        "\n",
        "namespace BasicRestApi.Controllers\n",
        "{\n",
        "    [Route(\"api/[controller]\")]\n",
        "    [ApiController]\n",
        "    public class ProductsController : ControllerBase\n",
        "    {\n",
        "        private static List<Product> products = new List<Product>\n",
        "        {\n",
        "            new Product { Id = 1, Name = \"Product1\", Price = 10.00M },\n",
        "            new Product { Id = 2, Name = \"Product2\", Price = 20.00M }\n",
        "        };\n",
        "\n",
        "        // GET: api/products\n",
        "        [HttpGet]\n",
        "        public ActionResult<IEnumerable<Product>> GetProducts()\n",
        "        {\n",
        "            return products;\n",
        "        }\n",
        "\n",
        "        // GET: api/products/5\n",
        "        [HttpGet(\"{id}\")]\n",
        "        public ActionResult<Product> GetProduct(int id)\n",
        "        {\n",
        "            var product = products.FirstOrDefault(p => p.Id == id);\n",
        "\n",
        "            if (product == null)\n",
        "            {\n",
        "                return NotFound();\n",
        "            }\n",
        "\n",
        "            return product;\n",
        "        }\n",
        "\n",
        "        // POST: api/products\n",
        "        [HttpPost]\n",
        "        public ActionResult<Product> PostProduct(Product product)\n",
        "        {\n",
        "            product.Id = products.Count + 1;\n",
        "            products.Add(product);\n",
        "            return CreatedAtAction(nameof(GetProduct), new { id = product.Id }, product);\n",
        "        }\n",
        "\n",
        "        // PUT: api/products/5\n",
        "        [HttpPut(\"{id}\")]\n",
        "        public IActionResult PutProduct(int id, Product product)\n",
        "        {\n",
        "            var existingProduct = products.FirstOrDefault(p => p.Id == id);\n",
        "            if (existingProduct == null)\n",
        "            {\n",
        "                return NotFound();\n",
        "            }\n",
        "\n",
        "            existingProduct.Name = product.Name;\n",
        "            existingProduct.Price = product.Price;\n",
        "\n",
        "            return NoContent();\n",
        "        }\n",
        "\n",
        "        // DELETE: api/products/5\n",
        "        [HttpDelete(\"{id}\")]\n",
        "        public IActionResult DeleteProduct(int id)\n",
        "        {\n",
        "            var product = products.FirstOrDefault(p => p.Id == id);\n",
        "            if (product == null)\n",
        "            {\n",
        "                return NotFound();\n",
        "            }\n",
        "\n",
        "            products.Remove(product);\n",
        "            return NoContent();\n",
        "        }\n",
        "    }\n",
        "}"
      ]
    }
  ]
}