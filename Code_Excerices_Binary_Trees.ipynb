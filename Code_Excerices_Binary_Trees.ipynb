{
  "nbformat": 4,
  "nbformat_minor": 0,
  "metadata": {
    "colab": {
      "provenance": [],
      "authorship_tag": "ABX9TyP/KVCTgnj1QfoNKRK9A2hs",
      "include_colab_link": true
    },
    "kernelspec": {
      "name": "python3",
      "display_name": "Python 3"
    },
    "language_info": {
      "name": "python"
    }
  },
  "cells": [
    {
      "cell_type": "markdown",
      "metadata": {
        "id": "view-in-github",
        "colab_type": "text"
      },
      "source": [
        "<a href=\"https://colab.research.google.com/github/OmerRosen/DifferentProjects/blob/main/Code_Excerices_Binary_Trees.ipynb\" target=\"_parent\"><img src=\"https://colab.research.google.com/assets/colab-badge.svg\" alt=\"Open In Colab\"/></a>"
      ]
    },
    {
      "cell_type": "markdown",
      "source": [
        "104. Maximum Depth of Binary Tree\n",
        "\n",
        "Given the root of a binary tree, return its maximum depth.\n",
        "\n",
        "A binary tree's maximum depth is the number of nodes along the longest path from the root node down to the farthest leaf node.\n",
        "\n",
        "\n",
        "\n",
        "Example 1:\n",
        "\n",
        "\n",
        "Input: root = [3,9,20,null,null,15,7]\n",
        "Output: 3\n",
        "Example 2:\n",
        "\n",
        "Input: root = [1,null,2]\n",
        "Output: 2\n",
        "\n",
        "\n",
        "Constraints:\n",
        "\n",
        "The number of nodes in the tree is in the range [0, 104].\n",
        "-100 <= Node.val <= 100"
      ],
      "metadata": {
        "id": "o3dgXheSMkog"
      }
    },
    {
      "cell_type": "code",
      "execution_count": null,
      "metadata": {
        "id": "UQ-MZNpCMarc"
      },
      "outputs": [],
      "source": [
        "/**\n",
        " * Definition for a binary tree node.\n",
        " * public class TreeNode {\n",
        " *     public int val;\n",
        " *     public TreeNode left;\n",
        " *     public TreeNode right;\n",
        " *     public TreeNode(int val=0, TreeNode left=null, TreeNode right=null) {\n",
        " *         this.val = val;\n",
        " *         this.left = left;\n",
        " *         this.right = right;\n",
        " *     }\n",
        " * }\n",
        " */\n",
        "public class Solution {\n",
        "    public int MaxDepth(TreeNode root) {\n",
        "\n",
        "        if(root == null){\n",
        "            return 0;\n",
        "        }\n",
        "\n",
        "        int counter = HasDept(root, 1);\n",
        "        return counter;\n",
        "    }\n",
        "\n",
        "    public int HasDept(TreeNode root, int currentCount){\n",
        "        if(root == null || (root.left == null && root.right == null)){\n",
        "            if (root != null){\n",
        "                Console.WriteLine($\"currentCount: {currentCount}. root: {root.val}.\");\n",
        "            }\n",
        "            return currentCount;\n",
        "        }\n",
        "        else{\n",
        "            int leftCount = HasDept(root.left, currentCount+1);\n",
        "            int rightCount = HasDept(root.right, currentCount+1);\n",
        "            Console.WriteLine($\"currentCount: {currentCount}. root: {root.val}. leftCount: {leftCount}. rightCount: {rightCount}\");\n",
        "            return Math.Max(leftCount,rightCount);\n",
        "        }\n",
        "    }\n",
        "}"
      ]
    },
    {
      "cell_type": "markdown",
      "source": [
        "100. Same Tree\n",
        "\n",
        "Given the roots of two binary trees p and q, write a function to check if they are the same or not.\n",
        "\n",
        "Two binary trees are considered the same if they are structurally identical, and the nodes have the same value.\n",
        "\n",
        "\n",
        "\n",
        "Example 1:\n",
        "\n",
        "\n",
        "Input: p = [1,2,3], q = [1,2,3]\n",
        "Output: true\n",
        "Example 2:\n",
        "\n",
        "\n",
        "Input: p = [1,2], q = [1,null,2]\n",
        "Output: false\n",
        "Example 3:\n",
        "\n",
        "\n",
        "Input: p = [1,2,1], q = [1,1,2]\n",
        "Output: false\n",
        "\n",
        "\n",
        "Constraints:\n",
        "\n",
        "The number of nodes in both trees is in the range [0, 100].\n",
        "-104 <= Node.val <= 104"
      ],
      "metadata": {
        "id": "TDPCq7lRy9Kg"
      }
    },
    {
      "cell_type": "code",
      "source": [
        "/**\n",
        " * Definition for a binary tree node.\n",
        " * public class TreeNode {\n",
        " *     public int val;\n",
        " *     public TreeNode left;\n",
        " *     public TreeNode right;\n",
        " *     public TreeNode(int val=0, TreeNode left=null, TreeNode right=null) {\n",
        " *         this.val = val;\n",
        " *         this.left = left;\n",
        " *         this.right = right;\n",
        " *     }\n",
        " * }\n",
        " */\n",
        "public class Solution {\n",
        "    public bool IsSameTree(TreeNode p, TreeNode q) {\n",
        "\n",
        "            var output = compareTrees(p, q);\n",
        "            return output;\n",
        "    }\n",
        "\n",
        "    public bool compareTrees(TreeNode a, TreeNode b){\n",
        "        if(a == null && b == null){\n",
        "            return true;\n",
        "        }\n",
        "        else if(a != null && b != null){\n",
        "            if(a.val != b.val){\n",
        "                return false;\n",
        "            }\n",
        "            var leftMatch = compareTrees(a.left, b.left);\n",
        "            var rightMatch = compareTrees(a.right, b.right);\n",
        "            return leftMatch && rightMatch;\n",
        "        }\n",
        "        else{\n",
        "            return false;\n",
        "        }\n",
        "    }\n",
        "}"
      ],
      "metadata": {
        "id": "AOO2JcZ5y_G9"
      },
      "execution_count": null,
      "outputs": []
    }
  ]
}