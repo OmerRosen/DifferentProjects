{
  "nbformat": 4,
  "nbformat_minor": 0,
  "metadata": {
    "colab": {
      "provenance": [],
      "authorship_tag": "ABX9TyM9LkTvU22QC5cah+OkbYlQ",
      "include_colab_link": true
    },
    "kernelspec": {
      "name": "python3",
      "display_name": "Python 3"
    },
    "language_info": {
      "name": "python"
    }
  },
  "cells": [
    {
      "cell_type": "markdown",
      "metadata": {
        "id": "view-in-github",
        "colab_type": "text"
      },
      "source": [
        "<a href=\"https://colab.research.google.com/github/OmerRosen/DifferentProjects/blob/main/Code_Excerices_Binary_Trees.ipynb\" target=\"_parent\"><img src=\"https://colab.research.google.com/assets/colab-badge.svg\" alt=\"Open In Colab\"/></a>"
      ]
    },
    {
      "cell_type": "markdown",
      "source": [
        "104. Maximum Depth of Binary Tree\n",
        "\n",
        "Given the root of a binary tree, return its maximum depth.\n",
        "\n",
        "A binary tree's maximum depth is the number of nodes along the longest path from the root node down to the farthest leaf node.\n",
        "\n",
        "\n",
        "\n",
        "Example 1:\n",
        "\n",
        "\n",
        "Input: root = [3,9,20,null,null,15,7]\n",
        "Output: 3\n",
        "Example 2:\n",
        "\n",
        "Input: root = [1,null,2]\n",
        "Output: 2\n",
        "\n",
        "\n",
        "Constraints:\n",
        "\n",
        "The number of nodes in the tree is in the range [0, 104].\n",
        "-100 <= Node.val <= 100"
      ],
      "metadata": {
        "id": "o3dgXheSMkog"
      }
    },
    {
      "cell_type": "code",
      "execution_count": null,
      "metadata": {
        "id": "UQ-MZNpCMarc"
      },
      "outputs": [],
      "source": [
        "/**\n",
        " * Definition for a binary tree node.\n",
        " * public class TreeNode {\n",
        " *     public int val;\n",
        " *     public TreeNode left;\n",
        " *     public TreeNode right;\n",
        " *     public TreeNode(int val=0, TreeNode left=null, TreeNode right=null) {\n",
        " *         this.val = val;\n",
        " *         this.left = left;\n",
        " *         this.right = right;\n",
        " *     }\n",
        " * }\n",
        " */\n",
        "public class Solution {\n",
        "    public int MaxDepth(TreeNode root) {\n",
        "\n",
        "        if(root == null){\n",
        "            return 0;\n",
        "        }\n",
        "\n",
        "        int counter = HasDept(root, 1);\n",
        "        return counter;\n",
        "    }\n",
        "\n",
        "    public int HasDept(TreeNode root, int currentCount){\n",
        "        if(root == null || (root.left == null && root.right == null)){\n",
        "            if (root != null){\n",
        "                Console.WriteLine($\"currentCount: {currentCount}. root: {root.val}.\");\n",
        "            }\n",
        "            return currentCount;\n",
        "        }\n",
        "        else{\n",
        "            int leftCount = HasDept(root.left, currentCount+1);\n",
        "            int rightCount = HasDept(root.right, currentCount+1);\n",
        "            Console.WriteLine($\"currentCount: {currentCount}. root: {root.val}. leftCount: {leftCount}. rightCount: {rightCount}\");\n",
        "            return Math.Max(leftCount,rightCount);\n",
        "        }\n",
        "    }\n",
        "}"
      ]
    }
  ]
}