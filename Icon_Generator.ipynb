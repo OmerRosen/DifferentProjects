{
  "nbformat": 4,
  "nbformat_minor": 0,
  "metadata": {
    "colab": {
      "provenance": [],
      "mount_file_id": "1LJxdwUrwfzrXr5FaItXOTFjWpRyTiQ2c",
      "authorship_tag": "ABX9TyOhWji//fCyrbMJfvGuwJic",
      "include_colab_link": true
    },
    "kernelspec": {
      "name": "python3",
      "display_name": "Python 3"
    },
    "language_info": {
      "name": "python"
    }
  },
  "cells": [
    {
      "cell_type": "markdown",
      "metadata": {
        "id": "view-in-github",
        "colab_type": "text"
      },
      "source": [
        "<a href=\"https://colab.research.google.com/github/OmerRosen/DifferentProjects/blob/main/Icon_Generator.ipynb\" target=\"_parent\"><img src=\"https://colab.research.google.com/assets/colab-badge.svg\" alt=\"Open In Colab\"/></a>"
      ]
    },
    {
      "cell_type": "code",
      "execution_count": 4,
      "metadata": {
        "id": "9Yl7KgdEWtG8"
      },
      "outputs": [],
      "source": [
        "from PIL import Image\n",
        "import os\n",
        "import glob\n"
      ]
    },
    {
      "cell_type": "code",
      "source": [
        "def resize_image(input_image_path, size):\n",
        "\n",
        "  if not os.path.exists(input_image_path):\n",
        "    print(f\"File path does not exists: {input_image_path}\")\n",
        "\n",
        "  original_image = Image.open(input_image_path)\n",
        "  width, height = original_image.size\n",
        "\n",
        "  file_name_without_extension = os.path.splitext(os.path.basename(input_image_path))[0]\n",
        "\n",
        "  print(file_name_without_extension, size)\n",
        "\n",
        "  # maintain aspect ratio\n",
        "  new_width = size\n",
        "  new_height = size\n",
        "\n",
        "  resized_image = original_image.resize((new_width, new_height))\n",
        "  resized_image.save(input_image_path.replace(file_name_without_extension, f\"{file_name_without_extension}_size{size}\") )\n",
        "\n",
        "# use the function\n",
        "#resize_image('/content/Haters gonna have small.png', 112)\n"
      ],
      "metadata": {
        "id": "vCK8EH7nWyVX"
      },
      "execution_count": 5,
      "outputs": []
    },
    {
      "cell_type": "code",
      "source": [
        "list_of_sizes = [112,56,28]\n",
        "\n",
        "directory = '/content/drive/MyDrive/Twitch Google Drive/Icons'\n",
        "all_png_files = glob.glob(os.path.join(directory, '*.png'))\n",
        "filtered_png_files = [f for f in all_png_files if '_size' not in f]\n",
        "\n",
        "\n",
        "for png_image in filtered_png_files:\n",
        "  print(png_image)\n",
        "  for size in list_of_sizes:\n",
        "    resize_image(png_image, size)\n",
        "\n"
      ],
      "metadata": {
        "colab": {
          "base_uri": "https://localhost:8080/"
        },
        "id": "R1T23flJXSIh",
        "outputId": "46ccc107-4d31-475b-cd9d-cb1b8bb950ac"
      },
      "execution_count": 6,
      "outputs": [
        {
          "output_type": "stream",
          "name": "stdout",
          "text": [
            "/content/drive/MyDrive/Twitch Google Drive/Icons/Kissing Justin.png\n",
            "Kissing Justin 112\n",
            "Kissing Justin 56\n",
            "Kissing Justin 28\n",
            "/content/drive/MyDrive/Twitch Google Drive/Icons/Topless both.png\n",
            "Topless both 112\n",
            "Topless both 56\n",
            "Topless both 28\n",
            "/content/drive/MyDrive/Twitch Google Drive/Icons/Justin Scared.png\n",
            "Justin Scared 112\n",
            "Justin Scared 56\n",
            "Justin Scared 28\n",
            "/content/drive/MyDrive/Twitch Google Drive/Icons/Omer Scared.png\n",
            "Omer Scared 112\n",
            "Omer Scared 56\n",
            "Omer Scared 28\n",
            "/content/drive/MyDrive/Twitch Google Drive/Icons/Justin Freeze Screen.png\n",
            "Justin Freeze Screen 112\n",
            "Justin Freeze Screen 56\n",
            "Justin Freeze Screen 28\n",
            "/content/drive/MyDrive/Twitch Google Drive/Icons/Nicole Kidman.png\n",
            "Nicole Kidman 112\n",
            "Nicole Kidman 56\n",
            "Nicole Kidman 28\n"
          ]
        }
      ]
    },
    {
      "cell_type": "code",
      "source": [],
      "metadata": {
        "id": "5al1GLwFZOFz"
      },
      "execution_count": 6,
      "outputs": []
    }
  ]
}