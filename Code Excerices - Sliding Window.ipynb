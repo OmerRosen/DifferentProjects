{
  "nbformat": 4,
  "nbformat_minor": 0,
  "metadata": {
    "colab": {
      "provenance": [],
      "authorship_tag": "ABX9TyMZBztDiobDKmyu/oQaC5J9",
      "include_colab_link": true
    },
    "kernelspec": {
      "name": "python3",
      "display_name": "Python 3"
    },
    "language_info": {
      "name": "python"
    }
  },
  "cells": [
    {
      "cell_type": "markdown",
      "metadata": {
        "id": "view-in-github",
        "colab_type": "text"
      },
      "source": [
        "<a href=\"https://colab.research.google.com/github/OmerRosen/DifferentProjects/blob/main/Code%20Excerices%20-%20Sliding%20Window.ipynb\" target=\"_parent\"><img src=\"https://colab.research.google.com/assets/colab-badge.svg\" alt=\"Open In Colab\"/></a>"
      ]
    },
    {
      "cell_type": "markdown",
      "source": [
        "209. Minimum Size Subarray Sum\n",
        "\n",
        "Given an array of positive integers nums and a positive integer target, return the minimal length of a\n",
        "subarray\n",
        " whose sum is greater than or equal to target. If there is no such subarray, return 0 instead.\n",
        "\n",
        "\n",
        "\n",
        "Example 1:\n",
        "\n",
        "Input: target = 7, nums = [2,3,1,2,4,3]\n",
        "Output: 2\n",
        "Explanation: The subarray [4,3] has the minimal length under the problem constraint.\n",
        "Example 2:\n",
        "\n",
        "Input: target = 4, nums = [1,4,4]\n",
        "Output: 1\n",
        "Example 3:\n",
        "\n",
        "Input: target = 11, nums = [1,1,1,1,1,1,1,1]\n",
        "Output: 0\n",
        "\n",
        "\n",
        "Constraints:\n",
        "\n",
        "1 <= target <= 109\n",
        "1 <= nums.length <= 105\n",
        "1 <= nums[i] <= 104\n",
        "\n",
        "\n",
        "Follow up: If you have figured out the O(n) solution, try coding another solution of which the time complexity is O(n log(n))."
      ],
      "metadata": {
        "id": "-vn4ekrpKzfz"
      }
    },
    {
      "cell_type": "code",
      "execution_count": null,
      "metadata": {
        "id": "6IINNe1fn0EH"
      },
      "outputs": [],
      "source": [
        "public class Solution {\n",
        "    public int MinSubArrayLen(int target, int[] nums) {\n",
        "        int minimumLength = nums.Length+1;\n",
        "\n",
        "        if(target == 0){\n",
        "            return 1;\n",
        "        }\n",
        "\n",
        "        int currentLength = 1;\n",
        "        int currentSum = 0;\n",
        "        for(int end=0; end<nums.Length; end++){\n",
        "            currentSum += nums[end];\n",
        "            if(currentSum>=target){\n",
        "                Console.WriteLine($\"end: {end}. valEnd: {nums[end]}. currentLength: {currentLength}. currentSum: {currentSum}\");\n",
        "                minimumLength = Math.Min(currentLength,minimumLength);\n",
        "                while(currentLength>1){\n",
        "                    int indexToRemove = end-currentLength+1;\n",
        "                    currentSum -= nums[indexToRemove];\n",
        "                    currentLength--;\n",
        "                    Console.WriteLine($\"trimming start: currentLength: {currentLength}. valEnd: {nums[end]}. indexToRemove: {indexToRemove}. currentLength: {currentLength}. currentSum: {currentSum}\");\n",
        "                    if(currentSum>=target){\n",
        "                        minimumLength = Math.Min(currentLength,minimumLength);\n",
        "                        Console.WriteLine($\"New Low: {minimumLength}\");\n",
        "                    }\n",
        "                    else{\n",
        "                        break;\n",
        "                    }\n",
        "                }\n",
        "            }\n",
        "            currentLength++;\n",
        "        }\n",
        "        return minimumLength==nums.Length+1 ? 0 : minimumLength;\n",
        "    }\n",
        "}"
      ]
    }
  ]
}