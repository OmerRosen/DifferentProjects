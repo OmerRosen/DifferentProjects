{
  "nbformat": 4,
  "nbformat_minor": 0,
  "metadata": {
    "colab": {
      "provenance": [],
      "authorship_tag": "ABX9TyMC80xGj99VoHmj4YYo7SxL",
      "include_colab_link": true
    },
    "kernelspec": {
      "name": "python3",
      "display_name": "Python 3"
    },
    "language_info": {
      "name": "python"
    }
  },
  "cells": [
    {
      "cell_type": "markdown",
      "metadata": {
        "id": "view-in-github",
        "colab_type": "text"
      },
      "source": [
        "<a href=\"https://colab.research.google.com/github/OmerRosen/DifferentProjects/blob/main/Code_Excerices_Matrix.ipynb\" target=\"_parent\"><img src=\"https://colab.research.google.com/assets/colab-badge.svg\" alt=\"Open In Colab\"/></a>"
      ]
    },
    {
      "cell_type": "markdown",
      "source": [
        "54. Spiral Matrix\n",
        "\n",
        "Given an m x n matrix, return all elements of the matrix in spiral order.\n",
        "\n",
        "\n",
        "\n",
        "Example 1:\n",
        "\n",
        "\n",
        "Input: matrix = [[1,2,3],[4,5,6],[7,8,9]]\n",
        "Output: [1,2,3,6,9,8,7,4,5]\n",
        "Example 2:\n",
        "\n",
        "\n",
        "Input: matrix = [[1,2,3,4],[5,6,7,8],[9,10,11,12]]\n",
        "Output: [1,2,3,4,8,12,11,10,9,5,6,7]\n",
        "\n",
        "\n",
        "Constraints:\n",
        "\n",
        "m == matrix.length\n",
        "n == matrix[i].length\n",
        "1 <= m, n <= 10\n",
        "-100 <= matrix[i][j] <= 100"
      ],
      "metadata": {
        "id": "8sxc53eabk-w"
      }
    },
    {
      "cell_type": "code",
      "execution_count": null,
      "metadata": {
        "id": "dJLAxagHbhBh"
      },
      "outputs": [],
      "source": [
        "public class Solution {\n",
        "    public IList<int> SpiralOrder(int[][] matrix) {\n",
        "\n",
        "        int rowCount = matrix.Length;\n",
        "        int colCount = matrix[0].Length;\n",
        "        int totalCount = rowCount*colCount;\n",
        "\n",
        "        HashSet<(int,int)> placesVisited = new HashSet<(int,int)>();\n",
        "        IList<int> output = new List<int>();\n",
        "\n",
        "        int movmentInstruction = 0;\n",
        "        // 0 - Right;\n",
        "        // 1 - Left\n",
        "        // 2 - Down\n",
        "        // 3 - Up\n",
        "        int counter = 0;\n",
        "        int currentRow = 0;\n",
        "        int currentCol = 0;\n",
        "        while(counter<totalCount) {\n",
        "\n",
        "\n",
        "            int currentVal = matrix[currentRow][currentCol];\n",
        "            output.Add(currentVal);\n",
        "            placesVisited.Add((currentRow,currentCol));\n",
        "            Console.WriteLine($\"currentRow: {currentRow}. currentCol: {currentCol}. currentVal: {currentVal}. movmentInstruction: {movmentInstruction}\");\n",
        "\n",
        "            switch(movmentInstruction){\n",
        "            case 0:\n",
        "                currentCol++;\n",
        "                break;\n",
        "            case 1:\n",
        "                currentCol--;\n",
        "                break;\n",
        "            case 2:\n",
        "                currentRow++;\n",
        "                break;\n",
        "            case 3:\n",
        "                currentRow--;\n",
        "                break;\n",
        "            }\n",
        "\n",
        "            if(placesVisited.Contains((currentRow,currentCol)) || currentRow>=rowCount || currentCol>=colCount || currentRow<0 || currentCol<0){\n",
        "\n",
        "                if(counter>=totalCount){\n",
        "                    break;\n",
        "                }\n",
        "                Console.WriteLine($\"Switching mode before:  currentRow {currentRow}. currentCol: {currentCol}. movmentInstruction: {movmentInstruction}\");\n",
        "\n",
        "                switch(movmentInstruction){\n",
        "                    case 0:\n",
        "                        movmentInstruction = 2;\n",
        "                        currentCol--;\n",
        "                        currentRow++;\n",
        "                        break;\n",
        "                    case 1:\n",
        "                        movmentInstruction =  3;\n",
        "                        currentCol++;\n",
        "                        currentRow--;\n",
        "                        break;\n",
        "                    case 2:\n",
        "                        movmentInstruction =  1;\n",
        "                        currentCol--;\n",
        "                        currentRow--;\n",
        "                        break;\n",
        "                    case 3:\n",
        "                        movmentInstruction =  0;\n",
        "                        currentCol++;\n",
        "                        currentRow++;\n",
        "                        break;\n",
        "                }\n",
        "\n",
        "                Console.WriteLine($\"Switching mode after:  currentRow {currentRow}. currentCol: {currentCol}. movmentInstruction: {movmentInstruction}\");\n",
        "            }\n",
        "\n",
        "            counter++;\n",
        "        }\n",
        "\n",
        "        return output;\n",
        "    }\n",
        "}"
      ]
    }
  ]
}