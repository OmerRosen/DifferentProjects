{
  "nbformat": 4,
  "nbformat_minor": 0,
  "metadata": {
    "colab": {
      "provenance": [],
      "authorship_tag": "ABX9TyMRRHbBB7jvE3/84XttGG+o",
      "include_colab_link": true
    },
    "kernelspec": {
      "name": "python3",
      "display_name": "Python 3"
    },
    "language_info": {
      "name": "python"
    }
  },
  "cells": [
    {
      "cell_type": "markdown",
      "metadata": {
        "id": "view-in-github",
        "colab_type": "text"
      },
      "source": [
        "<a href=\"https://colab.research.google.com/github/OmerRosen/DifferentProjects/blob/main/code_excerices_hashsets.ipynb\" target=\"_parent\"><img src=\"https://colab.research.google.com/assets/colab-badge.svg\" alt=\"Open In Colab\"/></a>"
      ]
    },
    {
      "cell_type": "markdown",
      "source": [
        "49. Group Anagrams\n",
        "\n",
        "Given an array of strings strs, group the anagrams together. You can return the answer in any order.\n",
        "\n",
        "An Anagram is a word or phrase formed by rearranging the letters of a different word or phrase, typically using all the original letters exactly once.\n",
        "\n",
        "\n",
        "\n",
        "Example 1:\n",
        "\n",
        "Input: strs = [\"eat\",\"tea\",\"tan\",\"ate\",\"nat\",\"bat\"]\n",
        "Output: [[\"bat\"],[\"nat\",\"tan\"],[\"ate\",\"eat\",\"tea\"]]\n",
        "Example 2:\n",
        "\n",
        "Input: strs = [\"\"]\n",
        "Output: [[\"\"]]\n",
        "Example 3:\n",
        "\n",
        "Input: strs = [\"a\"]\n",
        "Output: [[\"a\"]]\n",
        "\n",
        "\n",
        "Constraints:\n",
        "\n",
        "1 <= strs.length <= 104\n",
        "0 <= strs[i].length <= 100\n",
        "strs[i] consists of lowercase English letters."
      ],
      "metadata": {
        "id": "xtsKurue1XgA"
      }
    },
    {
      "cell_type": "code",
      "execution_count": null,
      "metadata": {
        "id": "UbrNej2o1VVh"
      },
      "outputs": [],
      "source": [
        "#Solution 1:\n",
        "\n",
        "public class Solution {\n",
        "    public IList<IList<string>> GroupAnagrams(string[] strs) {\n",
        "        IList<IList<string>> output = new List<IList<string>>();\n",
        "        Dictionary<int,IList<string>> lengthItems = new Dictionary<int,IList<string>>();\n",
        "\n",
        "        HashSet<string> seen = new HashSet<string>();\n",
        "        Dictionary<int,IList<string>> groupItems = new Dictionary<int,IList<string>>();\n",
        "        int groupCount = 0;\n",
        "\n",
        "        int counter = 0;\n",
        "        for(int i=0; i<strs.Length; i++){\n",
        "\n",
        "            string word = strs[i];\n",
        "            if(seen.Contains(word)){\n",
        "                continue;\n",
        "            }\n",
        "            groupItems[groupCount] = new List<string>();\n",
        "\n",
        "            IList<string> lengthStrings = new List<string>();\n",
        "            if(lengthItems.ContainsKey(word.Length)){\n",
        "                lengthStrings = lengthItems[word.Length];\n",
        "            }\n",
        "            else{\n",
        "                lengthStrings = strs.Where(x=>x.Length==word.Length).ToList();\n",
        "            }\n",
        "\n",
        "            //Console.WriteLine(string.Join(\", \", lengthStrings));\n",
        "            Console.WriteLine($\"groupCount: {groupCount}. Length: {word.Length}. number of items: {lengthStrings.Count}.\");\n",
        "            for(int j=0; j<lengthStrings.Count; j++){\n",
        "\n",
        "                string secondWord = lengthStrings[j];\n",
        "                if(IsAnagram(word, secondWord)){\n",
        "\n",
        "                    groupItems[groupCount].Add(secondWord);\n",
        "                    seen.Add(secondWord);\n",
        "                }\n",
        "                counter++;\n",
        "            }\n",
        "            groupCount++;\n",
        "        }\n",
        "\n",
        "        foreach(var l in groupItems){\n",
        "            output.Add(l.Value);\n",
        "        }\n",
        "\n",
        "        //Console.WriteLine($\"groupCounts: {groupCount}. counter: {counter}.\");\n",
        "        return output;\n",
        "    }\n",
        "    static bool IsAnagram(string s, string t){\n",
        "        Dictionary<char, int> countOfChars = new Dictionary<char, int>();\n",
        "\n",
        "        if(s.Length != t.Length){\n",
        "            return false;\n",
        "        }\n",
        "\n",
        "        for(int i=0; i<s.Length; i++){\n",
        "            char sChar = s[i];\n",
        "            char tChar = t[i];\n",
        "\n",
        "            countOfChars[sChar] = countOfChars.ContainsKey(sChar) ? countOfChars[sChar]+1 : 1;\n",
        "            countOfChars[tChar] = countOfChars.ContainsKey(tChar) ? countOfChars[tChar]-1 : -1;\n",
        "        }\n",
        "\n",
        "        // Console.WriteLine($\"s: {s}. t: {t}.\");\n",
        "        // Console.WriteLine(string.Join(\", \", countOfChars.Select(kvp => $\"Key: {kvp.Key}, Value: {kvp.Value}\")));\n",
        "        // Console.WriteLine($\"countOfChars: {countOfChars.Values.Any(value => value != 0)}.\");\n",
        "        return !countOfChars.Values.Any(value => value != 0);\n",
        "\n",
        "    }\n",
        "}"
      ]
    },
    {
      "cell_type": "code",
      "source": [
        "# Solution 2:\n",
        "public class Solution {\n",
        "    public int LongestConsecutive(int[] nums) {\n",
        "\n",
        "        HashSet<int> hashset = new HashSet<int>(nums);\n",
        "        int highest = 0;\n",
        "\n",
        "        foreach(int num in hashset){\n",
        "            int val = num;\n",
        "            if(!hashset.Contains(val-1)){\n",
        "                int counter = 1;\n",
        "                while(hashset.Contains(val+1)){\n",
        "                    counter++;\n",
        "                    val++;\n",
        "                }\n",
        "                highest = Math.Max(highest, counter);\n",
        "            }\n",
        "        }\n",
        "\n",
        "\n",
        "        return highest;\n",
        "    }\n",
        "}"
      ],
      "metadata": {
        "id": "UfAenSmnNR-X"
      },
      "execution_count": null,
      "outputs": []
    }
  ]
}